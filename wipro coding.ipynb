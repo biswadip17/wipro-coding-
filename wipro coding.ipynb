{
 "cells": [
  {
   "cell_type": "code",
   "execution_count": 1,
   "metadata": {},
   "outputs": [
    {
     "name": "stdout",
     "output_type": "stream",
     "text": [
      "bowANDarrow\n",
      "BOWandARROW"
     ]
    }
   ],
   "source": [
    "n=input()\n",
    "for i in n:\n",
    "    if(i.isupper()==True):\n",
    "        print(i.lower(),end=\"\")\n",
    "    else:\n",
    "        print(i.upper(),end=\"\")"
   ]
  },
  {
   "cell_type": "code",
   "execution_count": 12,
   "metadata": {},
   "outputs": [
    {
     "name": "stdout",
     "output_type": "stream",
     "text": [
      "biswadip\n",
      "3\n"
     ]
    }
   ],
   "source": [
    "vowel=[\"a\",\"e\",\"i\",\"o\",\"u\"]\n",
    "n=input().lower()\n",
    "c=0\n",
    "for i in range(len(n)-1):\n",
    "    if(n[i] in vowel):\n",
    "        if(n[i+1] not in vowel):\n",
    "            c+=1     \n",
    "print(c)"
   ]
  },
  {
   "cell_type": "code",
   "execution_count": 4,
   "metadata": {},
   "outputs": [
    {
     "name": "stdout",
     "output_type": "stream",
     "text": [
      "10\n",
      "2444433357\n",
      "4\n"
     ]
    }
   ],
   "source": [
    "t=int(input())\n",
    "n=input()\n",
    "arr=[]\n",
    "res=[]\n",
    "for i in n:\n",
    "    arr.append(int(i))\n",
    "arr.sort()\n",
    "s=set(arr)\n",
    "c=0\n",
    "for i in s:\n",
    "    c=arr.count(i)\n",
    "    res.append(c)\n",
    "print(max(res))\n",
    "        \n"
   ]
  },
  {
   "cell_type": "code",
   "execution_count": 7,
   "metadata": {},
   "outputs": [
    {
     "name": "stdout",
     "output_type": "stream",
     "text": [
      "12403\n",
      "bcead\n"
     ]
    }
   ],
   "source": [
    "n=input()\n",
    "s=\"\"\n",
    "for i in n:\n",
    "    if(i==\"0\"):\n",
    "        s+=\"a\"\n",
    "    if(i==\"1\"):\n",
    "        s+=\"b\"\n",
    "    if(i==\"2\"):\n",
    "        s+=\"c\"\n",
    "    if(i==\"3\"):\n",
    "        s+=\"d\"\n",
    "    if(i==\"4\"):\n",
    "        s+=\"e\"\n",
    "    if(i==\"5\"):\n",
    "        s+=\"f\"\n",
    "    if(i==\"6\"):\n",
    "        s+=\"g\"\n",
    "    if(i==\"7\"):\n",
    "        s+=\"h\"\n",
    "    if(i==\"8\"):\n",
    "        s+=\"i\"\n",
    "    if(i==\"9\"):\n",
    "        s+=\"j\"\n",
    "print(s)\n",
    "        "
   ]
  },
  {
   "cell_type": "code",
   "execution_count": 8,
   "metadata": {},
   "outputs": [
    {
     "name": "stdout",
     "output_type": "stream",
     "text": [
      "45673\n",
      "10\n"
     ]
    }
   ],
   "source": [
    "prime=[0,1,2,3,5,7]\n",
    "n=input()\n",
    "s=0\n",
    "for i in n:\n",
    "    if(int(i) not in prime):\n",
    "        s+=int(i)\n",
    "print(s)"
   ]
  },
  {
   "cell_type": "code",
   "execution_count": 9,
   "metadata": {},
   "outputs": [
    {
     "name": "stdout",
     "output_type": "stream",
     "text": [
      "alphaadida\n",
      "4\n"
     ]
    }
   ],
   "source": [
    "n=input()\n",
    "arr=[]\n",
    "for i in n:\n",
    "    arr.append(i)\n",
    "s=set(arr)\n",
    "c=0\n",
    "res=[]\n",
    "for i in s:\n",
    "    c=arr.count(i)\n",
    "    res.append(c)\n",
    "print(res.count(1))\n",
    "    "
   ]
  },
  {
   "cell_type": "code",
   "execution_count": 5,
   "metadata": {},
   "outputs": [
    {
     "name": "stdout",
     "output_type": "stream",
     "text": [
      "15623\n",
      "11110100000111"
     ]
    }
   ],
   "source": [
    "n=int(input())\n",
    "rem=0\n",
    "res=[]\n",
    "while(n!=0):\n",
    "    rem=n%2\n",
    "    res.append(rem)\n",
    "    n//=2\n",
    "res=res[::-1]\n",
    "for i in res:\n",
    "    print(i,end=\"\")"
   ]
  },
  {
   "cell_type": "code",
   "execution_count": 6,
   "metadata": {},
   "outputs": [
    {
     "name": "stdout",
     "output_type": "stream",
     "text": [
      "345627\n",
      "2\n"
     ]
    }
   ],
   "source": [
    "rr=[]\n",
    "n=input()\n",
    "for i in n:\n",
    "    rr.append(int(i))\n",
    "rr.sort()\n",
    "print(rr[0])"
   ]
  },
  {
   "cell_type": "code",
   "execution_count": 9,
   "metadata": {},
   "outputs": [
    {
     "name": "stdout",
     "output_type": "stream",
     "text": [
      "5\n",
      "1 4 2 6 3\n",
      "1 5 7 13 16 "
     ]
    }
   ],
   "source": [
    "n=int(input())\n",
    "arr=list(map(int,input().split()))\n",
    "s=0\n",
    "for i in arr:\n",
    "    s+=i\n",
    "    print(s,end=\" \")"
   ]
  },
  {
   "cell_type": "code",
   "execution_count": 1,
   "metadata": {},
   "outputs": [
    {
     "name": "stdout",
     "output_type": "stream",
     "text": [
      "5644456 5\n",
      "5\n"
     ]
    }
   ],
   "source": [
    "n,k=map(str,input().split())\n",
    "c=n.count(k)\n",
    "print(len(n)-c)"
   ]
  },
  {
   "cell_type": "code",
   "execution_count": 2,
   "metadata": {},
   "outputs": [
    {
     "name": "stdout",
     "output_type": "stream",
     "text": [
      "3\n",
      "as3gAsd\n",
      "dv6jDvg"
     ]
    }
   ],
   "source": [
    "n=int(input())\n",
    "s=input()\n",
    "m=0\n",
    "for i in s:\n",
    "    m=ord(i)\n",
    "    print(chr(m+n),end=\"\")   "
   ]
  },
  {
   "cell_type": "code",
   "execution_count": 13,
   "metadata": {},
   "outputs": [
    {
     "name": "stdout",
     "output_type": "stream",
     "text": [
      "3521 2452 1352\n",
      "1522"
     ]
    }
   ],
   "source": [
    "arr=list(map(str,input().split(\" \")))\n",
    "input1=[]\n",
    "input2=[]\n",
    "input3=[]\n",
    "input4=[]\n",
    "for i in arr:\n",
    "    input1.append(i[0])\n",
    "    input2.append(i[1])\n",
    "    input3.append(i[2])\n",
    "    input4.append(i[3])\n",
    "print(min(input1),end=\"\")\n",
    "print(max(input2),end=\"\")\n",
    "print(min(input3),end=\"\")\n",
    "print(max(input4),end=\"\")"
   ]
  },
  {
   "cell_type": "code",
   "execution_count": 30,
   "metadata": {},
   "outputs": [
    {
     "name": "stdout",
     "output_type": "stream",
     "text": [
      "39631\n",
      "9 3 3 6 1\n"
     ]
    }
   ],
   "source": [
    "n=input()\n",
    "arr=[]\n",
    "for i in n:\n",
    "    arr.append(i)\n",
    "c=0\n",
    "i=0\n",
    "while(i<len(arr)-1):\n",
    "    c=arr[i]\n",
    "    arr[i]=arr[i+1]\n",
    "    arr[i+1]=c\n",
    "    i+=2\n",
    "print(*arr)"
   ]
  },
  {
   "cell_type": "code",
   "execution_count": 51,
   "metadata": {},
   "outputs": [
    {
     "name": "stdout",
     "output_type": "stream",
     "text": [
      "5\n",
      "60 70 90 190 655\n",
      "266\n"
     ]
    }
   ],
   "source": [
    "n=int(input())\n",
    "arr=list(map(int,input().split()))\n",
    "s=0\n",
    "for i in arr:\n",
    "    s+=i\n",
    "if(round((s)**(1/3))**3==s):\n",
    "    print(\"Yes\")\n",
    "else:\n",
    "    print(((int((s)**(1/3))+1)**3)-s)"
   ]
  },
  {
   "cell_type": "code",
   "execution_count": 52,
   "metadata": {},
   "outputs": [
    {
     "name": "stdout",
     "output_type": "stream",
     "text": [
      "9\n",
      "23 1 8 56 27 67 64 125 232\n",
      "5\n"
     ]
    }
   ],
   "source": [
    "n=int(input())\n",
    "arr=list(map(int,input().split()))\n",
    "c=0\n",
    "for i in arr:\n",
    "    if(round(i**(1/3))**3==i):\n",
    "        c+=1\n",
    "print(c)"
   ]
  },
  {
   "cell_type": "code",
   "execution_count": 53,
   "metadata": {},
   "outputs": [
    {
     "name": "stdout",
     "output_type": "stream",
     "text": [
      "578378923\n",
      "3\n"
     ]
    }
   ],
   "source": [
    "n=input()\n",
    "arr=[]\n",
    "for i in n:\n",
    "    arr.append(i)\n",
    "s=set(arr)\n",
    "c=0\n",
    "res=[]\n",
    "for i in s:\n",
    "    c=arr.count(i)\n",
    "    res.append(c)\n",
    "r=0\n",
    "for i in res:\n",
    "    if(i>1):\n",
    "        r+=1\n",
    "print(r)"
   ]
  },
  {
   "cell_type": "code",
   "execution_count": 59,
   "metadata": {},
   "outputs": [
    {
     "name": "stdout",
     "output_type": "stream",
     "text": [
      "5\n",
      "10 11 7 12 14\n",
      "12\n"
     ]
    }
   ],
   "source": [
    "n=int(input())\n",
    "arr=list(map(int,input().split()))\n",
    "s=[]\n",
    "for i in range(0,len(arr)-1,1):\n",
    "    s.append(abs(arr[i+1]-arr[i]))\n",
    "#print(s)\n",
    "print(sum(s))"
   ]
  },
  {
   "cell_type": "code",
   "execution_count": 3,
   "metadata": {},
   "outputs": [
    {
     "name": "stdout",
     "output_type": "stream",
     "text": [
      "-97\n",
      "50\n",
      "50\n"
     ]
    }
   ],
   "source": [
    "def isprime(n):\n",
    "    if(n>1):\n",
    "        c=0\n",
    "        for i in range(2,int(n//2)+1):\n",
    "            if(n%i==0):\n",
    "                c=1\n",
    "                break\n",
    "        else:\n",
    "            return 1\n",
    "    else:\n",
    "        return 0\n",
    "res=[]\n",
    "start=int(input())\n",
    "end=int(input())\n",
    "for i in range(start,end+1):\n",
    "    if (i<0):\n",
    "        i=i*(-1)\n",
    "        if(isprime(i)):\n",
    "            res.append(i*(-1))\n",
    "    else:\n",
    "        if(isprime(i)):\n",
    "            res.append(i)\n",
    "#print(res)\n",
    "print(abs(min(res)+max(res)))"
   ]
  },
  {
   "cell_type": "code",
   "execution_count": 4,
   "metadata": {},
   "outputs": [
    {
     "name": "stdout",
     "output_type": "stream",
     "text": [
      "4\n",
      "43 345 20 987\n",
      "7 12 2 24\n"
     ]
    }
   ],
   "source": [
    "n=int(input())\n",
    "arr=list(map(int,input().split()))\n",
    "res=[]\n",
    "for i in arr:\n",
    "    s=0\n",
    "    while(i>0):\n",
    "        s+=i%10\n",
    "        i//=10\n",
    "    res.append(s)\n",
    "print(*res)"
   ]
  },
  {
   "cell_type": "code",
   "execution_count": 8,
   "metadata": {},
   "outputs": [
    {
     "name": "stdout",
     "output_type": "stream",
     "text": [
      "5 14\n",
      "6 5 3 11 10\n",
      "2 3\n"
     ]
    }
   ],
   "source": [
    "n,k=map(int,input().split())\n",
    "arr=list(map(int,input().split()))\n",
    "for i in range(n):\n",
    "    for j in range(i,n):\n",
    "        if(arr[i]+arr[j]==k):\n",
    "            print(i,j)\n",
    "            break\n",
    "    "
   ]
  },
  {
   "cell_type": "code",
   "execution_count": 17,
   "metadata": {},
   "outputs": [
    {
     "name": "stdout",
     "output_type": "stream",
     "text": [
      "6\n",
      "6 9 10 4 2 11\n",
      "1 4\n",
      "6 2 4 10 9 11\n"
     ]
    }
   ],
   "source": [
    "n=int(input())\n",
    "arr=list(map(int,input().split()))\n",
    "a,b=map(int,input().split())\n",
    "newarr=arr[a:b+1]\n",
    "newarr=newarr[::-1]\n",
    "for i in range(0,a):\n",
    "    newarr.insert(i,arr[i])\n",
    "for j in range(b+1,n):\n",
    "    newarr.insert(j,arr[j])\n",
    "print(*newarr)"
   ]
  },
  {
   "cell_type": "code",
   "execution_count": 7,
   "metadata": {},
   "outputs": [
    {
     "name": "stdout",
     "output_type": "stream",
     "text": [
      "20\n",
      "2432902008176640000\n",
      "7\n"
     ]
    }
   ],
   "source": [
    "n=int(input())\n",
    "s=1\n",
    "for i in range(1,n+1):\n",
    "    s*=i\n",
    "s=str(s)\n",
    "print(s)\n",
    "print(s.count(\"0\"))"
   ]
  },
  {
   "cell_type": "code",
   "execution_count": 4,
   "metadata": {},
   "outputs": [
    {
     "name": "stdout",
     "output_type": "stream",
     "text": [
      "aa a234bc@ sad$ hsagd^\n",
      "['aa', 'a234bc@', 'sad$', 'hsagd^']\n",
      "3\n"
     ]
    }
   ],
   "source": [
    "arr=list(map(str,input().strip().split()))\n",
    "print(arr)\n",
    "c=0\n",
    "for i in arr:\n",
    "    if(i.isalnum()):\n",
    "        pass\n",
    "    else:\n",
    "        c+=1\n",
    "print(c)\n"
   ]
  },
  {
   "cell_type": "code",
   "execution_count": 7,
   "metadata": {},
   "outputs": [
    {
     "name": "stdout",
     "output_type": "stream",
     "text": [
      "896321 4\n",
      "321896"
     ]
    }
   ],
   "source": [
    "n,k=map(int,input().split())\n",
    "n=str(n)\n",
    "m=len(n)\n",
    "for i in range(len(n)):\n",
    "    if(len(n)-i-1>=k-1):\n",
    "        print(n[i+k-1],end=\"\")\n",
    "    else:\n",
    "        print(n[i+k-1-m],end=\"\")"
   ]
  },
  {
   "cell_type": "code",
   "execution_count": 11,
   "metadata": {},
   "outputs": [
    {
     "name": "stdout",
     "output_type": "stream",
     "text": [
      "1234\n",
      "-3087\n"
     ]
    }
   ],
   "source": [
    "n=input()\n",
    "rev=n[::-1]\n",
    "n=int(n)\n",
    "rev=int(rev)\n",
    "print(n-rev)"
   ]
  },
  {
   "cell_type": "code",
   "execution_count": null,
   "metadata": {},
   "outputs": [],
   "source": []
  }
 ],
 "metadata": {
  "kernelspec": {
   "display_name": "Python 3",
   "language": "python",
   "name": "python3"
  },
  "language_info": {
   "codemirror_mode": {
    "name": "ipython",
    "version": 3
   },
   "file_extension": ".py",
   "mimetype": "text/x-python",
   "name": "python",
   "nbconvert_exporter": "python",
   "pygments_lexer": "ipython3",
   "version": "3.7.6"
  }
 },
 "nbformat": 4,
 "nbformat_minor": 4
}
